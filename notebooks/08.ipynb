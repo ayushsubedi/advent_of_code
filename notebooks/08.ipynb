{
 "cells": [
  {
   "cell_type": "code",
   "execution_count": 1,
   "id": "9bde7e23-9559-4733-a251-5ef237fb854d",
   "metadata": {},
   "outputs": [],
   "source": [
    "%reload_ext dotenv\n",
    "%dotenv\n",
    "\n",
    "from aocd import get_data\n",
    "from aocd import submit\n",
    "import numpy as np\n",
    "\n",
    "day = 8\n",
    "year = 2022\n",
    "\n",
    "lines = get_data(day=day, year=year).split('\\n')"
   ]
  },
  {
   "cell_type": "code",
   "execution_count": 2,
   "id": "889c442f-8239-4c54-a2b8-19e29b54a56f",
   "metadata": {},
   "outputs": [],
   "source": [
    "sample = ['30373', '25512', '65332', '33549', '35390']"
   ]
  },
  {
   "cell_type": "code",
   "execution_count": 3,
   "id": "818eb167-fd20-48bd-9722-e2792b268ab6",
   "metadata": {},
   "outputs": [],
   "source": [
    "inp = np.array([list(x) for x in sample]).astype('int')"
   ]
  },
  {
   "cell_type": "code",
   "execution_count": 4,
   "id": "91936d62-661d-482e-bbe8-d8138fb374c5",
   "metadata": {},
   "outputs": [
    {
     "data": {
      "text/plain": [
       "array([[ True, False, False,  True, False],\n",
       "       [ True,  True, False, False, False],\n",
       "       [ True, False, False, False, False],\n",
       "       [ True, False,  True, False,  True],\n",
       "       [ True,  True, False,  True, False]])"
      ]
     },
     "execution_count": 4,
     "metadata": {},
     "output_type": "execute_result"
    }
   ],
   "source": [
    "right = []\n",
    "for x in inp:\n",
    "    small = -1\n",
    "    row = []\n",
    "    for y in x:\n",
    "        if y > small:\n",
    "            small = y\n",
    "            row.append(True)\n",
    "        else:\n",
    "            row.append(False)\n",
    "    right.append(row)\n",
    "right = np.array(right)\n",
    "right"
   ]
  },
  {
   "cell_type": "code",
   "execution_count": 5,
   "id": "18b0109f-d5ee-415b-a345-b8d1d3855c51",
   "metadata": {},
   "outputs": [
    {
     "data": {
      "text/plain": [
       "array([[ True,  True,  True,  True,  True],\n",
       "       [False,  True,  True, False, False],\n",
       "       [ True, False, False, False, False],\n",
       "       [False, False, False, False,  True],\n",
       "       [False, False, False,  True, False]])"
      ]
     },
     "execution_count": 5,
     "metadata": {},
     "output_type": "execute_result"
    }
   ],
   "source": [
    "down = []\n",
    "for x in inp.T:\n",
    "    small = -1\n",
    "    row = []\n",
    "    for y in x:\n",
    "        if y > small:\n",
    "            small = y\n",
    "            row.append(True)\n",
    "        else:\n",
    "            row.append(False)\n",
    "    down.append(row)\n",
    "down = np.array(down).T\n",
    "down"
   ]
  },
  {
   "cell_type": "code",
   "execution_count": 6,
   "id": "9e59e6e4-6ca9-4d44-84df-20c087aa9a73",
   "metadata": {},
   "outputs": [
    {
     "data": {
      "text/plain": [
       "array([[False, False, False,  True,  True],\n",
       "       [False, False,  True, False,  True],\n",
       "       [ True,  True, False,  True,  True],\n",
       "       [False, False, False, False,  True],\n",
       "       [False, False, False,  True,  True]])"
      ]
     },
     "execution_count": 6,
     "metadata": {},
     "output_type": "execute_result"
    }
   ],
   "source": [
    "left = []\n",
    "for x in np.flip(inp, 1):\n",
    "    small = -1\n",
    "    row = []\n",
    "    for y in x:\n",
    "        if y > small:\n",
    "            small = y\n",
    "            row.append(True)\n",
    "        else:\n",
    "            row.append(False)\n",
    "    left.append(row)\n",
    "left = np.flip(left, 1) \n",
    "left"
   ]
  },
  {
   "cell_type": "code",
   "execution_count": 7,
   "id": "a233ba5b-db4f-4cc4-9495-33b6f7463fc3",
   "metadata": {},
   "outputs": [
    {
     "data": {
      "text/plain": [
       "array([[False, False, False, False, False],\n",
       "       [False, False, False, False, False],\n",
       "       [ True, False, False, False, False],\n",
       "       [False, False,  True, False,  True],\n",
       "       [ True,  True,  True,  True,  True]])"
      ]
     },
     "execution_count": 7,
     "metadata": {},
     "output_type": "execute_result"
    }
   ],
   "source": [
    "up = []\n",
    "for x in np.flip(inp, 0).T:\n",
    "    small = -1\n",
    "    row = []\n",
    "    for y in x:\n",
    "        if y > small:\n",
    "            small = y\n",
    "            row.append(True)\n",
    "        else:\n",
    "            row.append(False)\n",
    "    up.append(row)\n",
    "up = np.flip(np.array(up).T, 0) \n",
    "up"
   ]
  },
  {
   "cell_type": "code",
   "execution_count": 8,
   "id": "7bd778f6-566d-41a2-b286-7a1c78accc76",
   "metadata": {},
   "outputs": [],
   "source": [
    "submit((down+left+right+up).sum(), part=\"a\", day=day, year=year)"
   ]
  }
 ],
 "metadata": {
  "kernelspec": {
   "display_name": "Python 3 (ipykernel)",
   "language": "python",
   "name": "python3"
  },
  "language_info": {
   "codemirror_mode": {
    "name": "ipython",
    "version": 3
   },
   "file_extension": ".py",
   "mimetype": "text/x-python",
   "name": "python",
   "nbconvert_exporter": "python",
   "pygments_lexer": "ipython3",
   "version": "3.7.13"
  }
 },
 "nbformat": 4,
 "nbformat_minor": 5
}
