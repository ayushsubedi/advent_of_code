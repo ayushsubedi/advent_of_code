{
 "cells": [
  {
   "cell_type": "code",
   "execution_count": 1,
   "id": "9bde7e23-9559-4733-a251-5ef237fb854d",
   "metadata": {},
   "outputs": [],
   "source": [
    "%reload_ext dotenv\n",
    "%dotenv\n",
    "\n",
    "from aocd import get_data\n",
    "from aocd import submit\n",
    "import numpy as np\n",
    "\n",
    "day = 8\n",
    "year = 2022\n",
    "\n",
    "lines = get_data(day=day, year=year).split('\\n')"
   ]
  },
  {
   "cell_type": "code",
   "execution_count": 2,
   "id": "889c442f-8239-4c54-a2b8-19e29b54a56f",
   "metadata": {},
   "outputs": [],
   "source": [
    "sample = ['30373', '25512', '65332', '33549', '35390']"
   ]
  },
  {
   "cell_type": "code",
   "execution_count": 3,
   "id": "818eb167-fd20-48bd-9722-e2792b268ab6",
   "metadata": {},
   "outputs": [],
   "source": [
    "inp = np.array([list(x) for x in sample]).astype('int')"
   ]
  },
  {
   "cell_type": "code",
   "execution_count": 4,
   "id": "91936d62-661d-482e-bbe8-d8138fb374c5",
   "metadata": {},
   "outputs": [
    {
     "data": {
      "text/plain": [
       "array([[ True, False, False,  True, False],\n",
       "       [ True,  True, False, False, False],\n",
       "       [ True, False, False, False, False],\n",
       "       [ True, False,  True, False,  True],\n",
       "       [ True,  True, False,  True, False]])"
      ]
     },
     "execution_count": 4,
     "metadata": {},
     "output_type": "execute_result"
    }
   ],
   "source": [
    "right = []\n",
    "for x in inp:\n",
    "    small = -1\n",
    "    row = []\n",
    "    for y in x:\n",
    "        if y > small:\n",
    "            small = y\n",
    "            row.append(True)\n",
    "        else:\n",
    "            row.append(False)\n",
    "    right.append(row)\n",
    "right = np.array(right)\n",
    "right"
   ]
  },
  {
   "cell_type": "code",
   "execution_count": 5,
   "id": "18b0109f-d5ee-415b-a345-b8d1d3855c51",
   "metadata": {},
   "outputs": [
    {
     "data": {
      "text/plain": [
       "array([[ True,  True,  True,  True,  True],\n",
       "       [False,  True,  True, False, False],\n",
       "       [ True, False, False, False, False],\n",
       "       [False, False, False, False,  True],\n",
       "       [False, False, False,  True, False]])"
      ]
     },
     "execution_count": 5,
     "metadata": {},
     "output_type": "execute_result"
    }
   ],
   "source": [
    "down = []\n",
    "for x in inp.T:\n",
    "    small = -1\n",
    "    row = []\n",
    "    for y in x:\n",
    "        if y > small:\n",
    "            small = y\n",
    "            row.append(True)\n",
    "        else:\n",
    "            row.append(False)\n",
    "    down.append(row)\n",
    "down = np.array(down).T\n",
    "down"
   ]
  },
  {
   "cell_type": "code",
   "execution_count": 6,
   "id": "9e59e6e4-6ca9-4d44-84df-20c087aa9a73",
   "metadata": {},
   "outputs": [
    {
     "data": {
      "text/plain": [
       "array([[False, False, False,  True,  True],\n",
       "       [False, False,  True, False,  True],\n",
       "       [ True,  True, False,  True,  True],\n",
       "       [False, False, False, False,  True],\n",
       "       [False, False, False,  True,  True]])"
      ]
     },
     "execution_count": 6,
     "metadata": {},
     "output_type": "execute_result"
    }
   ],
   "source": [
    "left = []\n",
    "for x in np.flip(inp, 1):\n",
    "    small = -1\n",
    "    row = []\n",
    "    for y in x:\n",
    "        if y > small:\n",
    "            small = y\n",
    "            row.append(True)\n",
    "        else:\n",
    "            row.append(False)\n",
    "    left.append(row)\n",
    "left = np.flip(left, 1) \n",
    "left"
   ]
  },
  {
   "cell_type": "code",
   "execution_count": 7,
   "id": "a233ba5b-db4f-4cc4-9495-33b6f7463fc3",
   "metadata": {},
   "outputs": [
    {
     "data": {
      "text/plain": [
       "array([[False, False, False, False, False],\n",
       "       [False, False, False, False, False],\n",
       "       [ True, False, False, False, False],\n",
       "       [False, False,  True, False,  True],\n",
       "       [ True,  True,  True,  True,  True]])"
      ]
     },
     "execution_count": 7,
     "metadata": {},
     "output_type": "execute_result"
    }
   ],
   "source": [
    "up = []\n",
    "for x in np.flip(inp, 0).T:\n",
    "    small = -1\n",
    "    row = []\n",
    "    for y in x:\n",
    "        if y > small:\n",
    "            small = y\n",
    "            row.append(True)\n",
    "        else:\n",
    "            row.append(False)\n",
    "    up.append(row)\n",
    "up = np.flip(np.array(up).T, 0) \n",
    "up"
   ]
  },
  {
   "cell_type": "code",
   "execution_count": 8,
   "id": "7bd778f6-566d-41a2-b286-7a1c78accc76",
   "metadata": {},
   "outputs": [],
   "source": [
    "# submit((down+left+right+up).sum(), part=\"a\", day=day, year=year)"
   ]
  },
  {
   "cell_type": "code",
   "execution_count": 12,
   "id": "f9243fa7-b187-4c2e-8e7b-68e6e2e0c54b",
   "metadata": {},
   "outputs": [
    {
     "data": {
      "text/plain": [
       "array([[3, 0, 3, 7, 3],\n",
       "       [2, 5, 5, 1, 2],\n",
       "       [6, 5, 3, 3, 2],\n",
       "       [3, 3, 5, 4, 9],\n",
       "       [3, 5, 3, 9, 0]])"
      ]
     },
     "execution_count": 12,
     "metadata": {},
     "output_type": "execute_result"
    }
   ],
   "source": [
    "inp"
   ]
  },
  {
   "cell_type": "code",
   "execution_count": 13,
   "id": "7291bfd7-af83-4c1e-9b6e-1dd818ef3883",
   "metadata": {},
   "outputs": [
    {
     "data": {
      "text/plain": [
       "array([[ True, False, False,  True, False],\n",
       "       [ True,  True, False, False, False],\n",
       "       [ True, False, False, False, False],\n",
       "       [ True, False,  True, False,  True],\n",
       "       [ True,  True, False,  True, False]])"
      ]
     },
     "execution_count": 13,
     "metadata": {},
     "output_type": "execute_result"
    }
   ],
   "source": [
    "right"
   ]
  },
  {
   "cell_type": "code",
   "execution_count": 18,
   "id": "a540aa3d-6676-4aa8-9cdf-777ca58385fe",
   "metadata": {},
   "outputs": [
    {
     "data": {
      "text/plain": [
       "array([1, 0, 0, 1, 0])"
      ]
     },
     "execution_count": 18,
     "metadata": {},
     "output_type": "execute_result"
    }
   ],
   "source": [
    "right.astype(int)[0]"
   ]
  },
  {
   "cell_type": "code",
   "execution_count": 89,
   "id": "3a2f806b-5a85-43d8-86c2-f53aebcfbc68",
   "metadata": {},
   "outputs": [
    {
     "data": {
      "text/plain": [
       "array([], dtype=int64)"
      ]
     },
     "execution_count": 89,
     "metadata": {},
     "output_type": "execute_result"
    }
   ],
   "source": [
    "right.astype(int)[0][7:]"
   ]
  },
  {
   "cell_type": "code",
   "execution_count": 104,
   "id": "9bf36cc7-d4a9-45b0-9451-5b9df1d95d61",
   "metadata": {},
   "outputs": [
    {
     "name": "stdout",
     "output_type": "stream",
     "text": [
      "0 add one\n",
      "1 add one but leave\n",
      "0 add one\n",
      "1 add one but leave\n",
      "1 add one but leave\n",
      "0 add one\n",
      "1 add one but leave\n",
      "0 add one\n",
      "1 add one but leave\n",
      "1 add one but leave\n"
     ]
    }
   ],
   "source": [
    "final = []\n",
    "for iy, y in enumerate(right.astype(int)[3]):\n",
    "    count = 0\n",
    "    for z in right.astype(int)[3][iy+1:]:\n",
    "        if z==0:\n",
    "            print (z, 'add one')\n",
    "            count += 1\n",
    "        elif z==1:\n",
    "            print (z, 'add one but leave')\n",
    "            count += 1\n",
    "            final.append(count)\n",
    "            count = 0 "
   ]
  },
  {
   "cell_type": "code",
   "execution_count": 105,
   "id": "e35a3080-de9b-4f61-ab5e-d6b054936d01",
   "metadata": {},
   "outputs": [
    {
     "data": {
      "text/plain": [
       "[2, 2, 1, 2, 2, 1]"
      ]
     },
     "execution_count": 105,
     "metadata": {},
     "output_type": "execute_result"
    }
   ],
   "source": [
    "final"
   ]
  },
  {
   "cell_type": "code",
   "execution_count": 22,
   "id": "62140db4-d547-4ab4-8a18-31c1799fa9d9",
   "metadata": {},
   "outputs": [
    {
     "data": {
      "text/plain": [
       "array([[ True, False, False,  True, False],\n",
       "       [ True,  True, False, False, False],\n",
       "       [ True, False, False, False, False],\n",
       "       [ True, False,  True, False,  True],\n",
       "       [ True,  True, False,  True, False]])"
      ]
     },
     "execution_count": 22,
     "metadata": {},
     "output_type": "execute_result"
    }
   ],
   "source": [
    "right"
   ]
  },
  {
   "cell_type": "code",
   "execution_count": null,
   "id": "51797b2e-3192-4257-870e-c941166802d9",
   "metadata": {},
   "outputs": [],
   "source": []
  }
 ],
 "metadata": {
  "kernelspec": {
   "display_name": "Python 3 (ipykernel)",
   "language": "python",
   "name": "python3"
  },
  "language_info": {
   "codemirror_mode": {
    "name": "ipython",
    "version": 3
   },
   "file_extension": ".py",
   "mimetype": "text/x-python",
   "name": "python",
   "nbconvert_exporter": "python",
   "pygments_lexer": "ipython3",
   "version": "3.8.5"
  }
 },
 "nbformat": 4,
 "nbformat_minor": 5
}
