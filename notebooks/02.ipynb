{
 "cells": [
  {
   "cell_type": "code",
   "execution_count": 1,
   "id": "2a1cb3b5-3e4c-40a4-959e-12be1f0761d3",
   "metadata": {},
   "outputs": [],
   "source": [
    "%reload_ext dotenv\n",
    "%dotenv\n",
    "\n",
    "from aocd import get_data\n",
    "from aocd import submit\n",
    "\n",
    "day = 2\n",
    "year = 2022\n",
    "\n",
    "lines = get_data(day=day, year=year).split('\\n')"
   ]
  },
  {
   "cell_type": "code",
   "execution_count": 2,
   "id": "94b1101d-f4ac-4f24-888a-d143312896f9",
   "metadata": {},
   "outputs": [],
   "source": [
    "you_shape_value = {'X': 1, 'Y': 2, 'Z': 3}\n",
    "opp_shape_value = {'A': 1, 'B': 2, 'C': 3}"
   ]
  },
  {
   "cell_type": "code",
   "execution_count": 3,
   "id": "ee80d966-18ca-4165-9dea-18de103b176b",
   "metadata": {},
   "outputs": [],
   "source": [
    "opp_list =  ['A', 'B', 'C']\n",
    "you_list =  ['X', 'Y', 'Z']"
   ]
  },
  {
   "cell_type": "code",
   "execution_count": 4,
   "id": "c4070a2f-55bc-4202-b7c5-42a4ec189fd0",
   "metadata": {},
   "outputs": [
    {
     "name": "stdout",
     "output_type": "stream",
     "text": [
      "Part a already solved with same answer: 13924\n"
     ]
    }
   ],
   "source": [
    "_sum = 0\n",
    "for l in lines:\n",
    "    you = l[2]\n",
    "    opp = l[0]\n",
    "    _sum += you_shape_value[you]\n",
    "    if opp_list.index(opp) == you_list.index(you):\n",
    "        _sum += 3\n",
    "    elif  ((you == 'X' and opp == 'C') or (you == 'Y' and opp == 'A') or (you == 'Z' and opp == 'B')):\n",
    "        _sum += 6\n",
    "submit(_sum, part=\"a\", day=day, year=year)"
   ]
  },
  {
   "cell_type": "code",
   "execution_count": 5,
   "id": "7bf8c2c3-d022-4247-8839-e7ec65af8470",
   "metadata": {},
   "outputs": [],
   "source": [
    "oponent = {\"A\": 1, \"B\":2, \"C\":3}"
   ]
  },
  {
   "cell_type": "code",
   "execution_count": 6,
   "id": "c2dcd96c-fdef-43e1-9a3e-8a313ada9f00",
   "metadata": {},
   "outputs": [
    {
     "name": "stdout",
     "output_type": "stream",
     "text": [
      "Part b already solved with same answer: 13448\n"
     ]
    }
   ],
   "source": [
    "_sum = 0\n",
    "\n",
    "for l in lines:\n",
    "    you = l[2]\n",
    "    opp = l[0]\n",
    "    if (you == 'X'):\n",
    "        if(opp == 'A'):\n",
    "            _sum += 3\n",
    "        else:\n",
    "            _sum += opp_shape_value[opp] - 1\n",
    "    if (you == 'Y'):\n",
    "        _sum += opp_shape_value[opp] + 3\n",
    "    if (you == 'Z'):\n",
    "        if(opp == 'C'):\n",
    "            _sum += 7\n",
    "        else:\n",
    "            _sum += opp_shape_value[opp] + 7\n",
    "submit(_sum, part=\"b\", day=day, year=year)"
   ]
  }
 ],
 "metadata": {
  "kernelspec": {
   "display_name": "Python 3 (ipykernel)",
   "language": "python",
   "name": "python3"
  },
  "language_info": {
   "codemirror_mode": {
    "name": "ipython",
    "version": 3
   },
   "file_extension": ".py",
   "mimetype": "text/x-python",
   "name": "python",
   "nbconvert_exporter": "python",
   "pygments_lexer": "ipython3",
   "version": "3.8.5"
  }
 },
 "nbformat": 4,
 "nbformat_minor": 5
}
