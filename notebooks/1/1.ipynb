{
 "cells": [
  {
   "cell_type": "code",
   "execution_count": 1,
   "id": "c72cd27d-adda-41d3-9957-6540095c3360",
   "metadata": {},
   "outputs": [],
   "source": [
    "with open('input.txt') as file:\n",
    "    lines = [line.rstrip() for line in file]"
   ]
  },
  {
   "cell_type": "code",
   "execution_count": 2,
   "id": "a9a436b4-7b80-4822-8dcb-e72a9192b491",
   "metadata": {},
   "outputs": [],
   "source": [
    "final_sum = []\n",
    "temp_sum = 0\n",
    "for l in lines:\n",
    "    if l=='':\n",
    "        final_sum.append(temp_sum)\n",
    "        temp_sum = 0\n",
    "    else:\n",
    "        temp_sum+=int(l)"
   ]
  },
  {
   "cell_type": "code",
   "execution_count": 3,
   "id": "ff0c9f04-c557-407c-afe5-ae53f4dca420",
   "metadata": {},
   "outputs": [
    {
     "data": {
      "text/plain": [
       "74198"
      ]
     },
     "execution_count": 3,
     "metadata": {},
     "output_type": "execute_result"
    }
   ],
   "source": [
    "max(final_sum)"
   ]
  },
  {
   "cell_type": "code",
   "execution_count": 4,
   "id": "09e760ed-ac03-4993-9083-92cdfa8282d0",
   "metadata": {},
   "outputs": [
    {
     "data": {
      "text/plain": [
       "209914"
      ]
     },
     "execution_count": 4,
     "metadata": {},
     "output_type": "execute_result"
    }
   ],
   "source": [
    "sum(sorted(final_sum, reverse=True)[:3])"
   ]
  }
 ],
 "metadata": {
  "kernelspec": {
   "display_name": "Python 3 (ipykernel)",
   "language": "python",
   "name": "python3"
  },
  "language_info": {
   "codemirror_mode": {
    "name": "ipython",
    "version": 3
   },
   "file_extension": ".py",
   "mimetype": "text/x-python",
   "name": "python",
   "nbconvert_exporter": "python",
   "pygments_lexer": "ipython3",
   "version": "3.8.5"
  }
 },
 "nbformat": 4,
 "nbformat_minor": 5
}
