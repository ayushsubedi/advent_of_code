{
 "cells": [
  {
   "cell_type": "code",
   "execution_count": 1,
   "id": "9bde7e23-9559-4733-a251-5ef237fb854d",
   "metadata": {},
   "outputs": [],
   "source": [
    "%reload_ext dotenv\n",
    "%dotenv\n",
    "\n",
    "from aocd import get_data\n",
    "from aocd import submit\n",
    "\n",
    "day = 6\n",
    "year = 2022\n",
    "\n",
    "lines = get_data(day=day, year=year).split('\\n')"
   ]
  },
  {
   "cell_type": "code",
   "execution_count": 2,
   "id": "90726466-0bce-4e02-8ed5-758ea0610f0e",
   "metadata": {},
   "outputs": [],
   "source": [
    "input_text = lines[0]"
   ]
  },
  {
   "cell_type": "code",
   "execution_count": 3,
   "id": "fae3b30f-6b34-4108-ae80-0a72d3535c58",
   "metadata": {},
   "outputs": [
    {
     "name": "stdout",
     "output_type": "stream",
     "text": [
      "Part a already solved with same answer: 1702\n"
     ]
    }
   ],
   "source": [
    "final_set = set()\n",
    "for index, x in enumerate(input_text):\n",
    "    if (len(list(set(input_text[index:index+4]))))==4:\n",
    "        submit(index+4, part=\"a\", day=day, year=year)\n",
    "        break"
   ]
  },
  {
   "cell_type": "code",
   "execution_count": 4,
   "id": "d94b7835-e380-408e-bdbd-0f9042a1a721",
   "metadata": {},
   "outputs": [
    {
     "name": "stdout",
     "output_type": "stream",
     "text": [
      "Part b already solved with same answer: 3559\n"
     ]
    }
   ],
   "source": [
    "final_set = set()\n",
    "for index, x in enumerate(input_text):\n",
    "    if (len(list(set(input_text[index:index+14]))))==14:\n",
    "        submit(index+14, part=\"b\", day=day, year=year)\n",
    "        break"
   ]
  }
 ],
 "metadata": {
  "kernelspec": {
   "display_name": "Python 3 (ipykernel)",
   "language": "python",
   "name": "python3"
  },
  "language_info": {
   "codemirror_mode": {
    "name": "ipython",
    "version": 3
   },
   "file_extension": ".py",
   "mimetype": "text/x-python",
   "name": "python",
   "nbconvert_exporter": "python",
   "pygments_lexer": "ipython3",
   "version": "3.8.5"
  }
 },
 "nbformat": 4,
 "nbformat_minor": 5
}
