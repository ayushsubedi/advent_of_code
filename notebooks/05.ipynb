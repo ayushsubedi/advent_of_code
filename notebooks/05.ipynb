{
 "cells": [
  {
   "cell_type": "code",
   "execution_count": 1,
   "id": "1554a767-f40b-44c1-8d92-4ee471326f24",
   "metadata": {},
   "outputs": [],
   "source": [
    "%reload_ext dotenv\n",
    "%dotenv\n",
    "\n",
    "from aocd import get_data\n",
    "from aocd import submit\n",
    "\n",
    "day = 5\n",
    "year = 2022\n",
    "\n",
    "lines = get_data(day=day, year=year).split('\\n')"
   ]
  },
  {
   "cell_type": "code",
   "execution_count": 2,
   "id": "d4937a33-7f97-486a-934f-d1743a2c2e21",
   "metadata": {},
   "outputs": [],
   "source": [
    "lines = lines[10:]"
   ]
  },
  {
   "cell_type": "raw",
   "id": "400838d3-c08c-4623-89fb-12027be1d204",
   "metadata": {},
   "source": [
    "            [G] [W]         [Q]    \n",
    "[Z]         [Q] [M]     [J] [F]    \n",
    "[V]         [V] [S] [F] [N] [R]    \n",
    "[T]         [F] [C] [H] [F] [W] [P]\n",
    "[B] [L]     [L] [J] [C] [V] [D] [V]\n",
    "[J] [V] [F] [N] [T] [T] [C] [Z] [W]\n",
    "[G] [R] [Q] [H] [Q] [W] [Z] [G] [B]\n",
    "[R] [J] [S] [Z] [R] [S] [D] [L] [J]\n",
    " 1   2   3   4   5   6   7   8   9 "
   ]
  },
  {
   "cell_type": "code",
   "execution_count": 3,
   "id": "0b04264b-b953-42c7-ac71-997f62597d14",
   "metadata": {},
   "outputs": [],
   "source": [
    "cargo = {'c_1' : ['R', 'G', 'J', 'B', 'T', 'V', 'Z'],\n",
    "'c_2' : ['J', 'R', 'V', 'L'],\n",
    "'c_3' : ['S', 'Q', 'F'],\n",
    "'c_4' : ['Z', 'H', 'N', 'L', 'F', 'V', 'Q', 'G'],\n",
    "'c_5' : ['R', 'Q', 'T', 'J', 'C', 'S', 'M', 'W'],\n",
    "'c_6' : ['S', 'W', 'T', 'C', 'H', 'F'],\n",
    "'c_7' : ['D', 'Z', 'C', 'V', 'F', 'N', 'J'],\n",
    "'c_8' : ['L', 'G', 'Z', 'D', 'W', 'R', 'F', 'Q'],\n",
    "'c_9' : ['J', 'B', 'W', 'V', 'P']}"
   ]
  },
  {
   "cell_type": "code",
   "execution_count": 4,
   "id": "22db63af-315f-4837-8e27-b7e8b173a720",
   "metadata": {},
   "outputs": [
    {
     "data": {
      "text/plain": [
       "{'c_1': ['R', 'G', 'J', 'B', 'T', 'V', 'Z'],\n",
       " 'c_2': ['J', 'R', 'V', 'L'],\n",
       " 'c_3': ['S', 'Q', 'F'],\n",
       " 'c_4': ['Z', 'H', 'N', 'L', 'F', 'V', 'Q', 'G'],\n",
       " 'c_5': ['R', 'Q', 'T', 'J', 'C', 'S', 'M', 'W'],\n",
       " 'c_6': ['S', 'W', 'T', 'C', 'H', 'F'],\n",
       " 'c_7': ['D', 'Z', 'C', 'V', 'F', 'N', 'J'],\n",
       " 'c_8': ['L', 'G', 'Z', 'D', 'W', 'R', 'F', 'Q'],\n",
       " 'c_9': ['J', 'B', 'W', 'V', 'P']}"
      ]
     },
     "execution_count": 4,
     "metadata": {},
     "output_type": "execute_result"
    }
   ],
   "source": [
    "cargo"
   ]
  },
  {
   "cell_type": "code",
   "execution_count": 5,
   "id": "ffab1d19-c15a-4f96-b19c-34ca389e63b6",
   "metadata": {},
   "outputs": [],
   "source": [
    "import re\n",
    "for l in lines:\n",
    "    moves = int(re.findall(\"(?<=move )(.*?)(?= from)\", l)[0])\n",
    "    _from = \"c_\"+ re.findall(\"(?<=from )(.*?)(?= to)\", l)[0]\n",
    "    _to = \"c_\"+ re.findall(\"(?<=to )(.*?)\", l)[1]\n",
    "    for x in range(moves):\n",
    "        cargo[_to].append(cargo[_from].pop()) "
   ]
  },
  {
   "cell_type": "code",
   "execution_count": 6,
   "id": "8e26a6e1-25ef-47f1-8209-e7e1c5f33683",
   "metadata": {},
   "outputs": [
    {
     "name": "stdout",
     "output_type": "stream",
     "text": [
      "Part a already solved with same answer: ZSQVCCJLL\n"
     ]
    }
   ],
   "source": [
    "final = ''\n",
    "for i in range(9):\n",
    "    final+= (cargo[\"c_\"+str(i+1)][-1])\n",
    "submit(final, part=\"a\", day=day, year=year)"
   ]
  },
  {
   "cell_type": "code",
   "execution_count": 7,
   "id": "f03911e2-451e-4e63-bda9-68f0c63a2481",
   "metadata": {},
   "outputs": [],
   "source": [
    "cargo = {'c_1' : ['R', 'G', 'J', 'B', 'T', 'V', 'Z'],\n",
    "'c_2' : ['J', 'R', 'V', 'L'],\n",
    "'c_3' : ['S', 'Q', 'F'],\n",
    "'c_4' : ['Z', 'H', 'N', 'L', 'F', 'V', 'Q', 'G'],\n",
    "'c_5' : ['R', 'Q', 'T', 'J', 'C', 'S', 'M', 'W'],\n",
    "'c_6' : ['S', 'W', 'T', 'C', 'H', 'F'],\n",
    "'c_7' : ['D', 'Z', 'C', 'V', 'F', 'N', 'J'],\n",
    "'c_8' : ['L', 'G', 'Z', 'D', 'W', 'R', 'F', 'Q'],\n",
    "'c_9' : ['J', 'B', 'W', 'V', 'P']}"
   ]
  },
  {
   "cell_type": "code",
   "execution_count": 8,
   "id": "7e8624d4-f2dd-4aa4-bcaf-b26ebe4b7c04",
   "metadata": {},
   "outputs": [
    {
     "data": {
      "text/plain": [
       "{'c_1': ['R', 'G', 'J', 'B', 'T', 'V', 'Z'],\n",
       " 'c_2': ['J', 'R', 'V', 'L'],\n",
       " 'c_3': ['S', 'Q', 'F'],\n",
       " 'c_4': ['Z', 'H', 'N', 'L', 'F', 'V', 'Q', 'G'],\n",
       " 'c_5': ['R', 'Q', 'T', 'J', 'C', 'S', 'M', 'W'],\n",
       " 'c_6': ['S', 'W', 'T', 'C', 'H', 'F'],\n",
       " 'c_7': ['D', 'Z', 'C', 'V', 'F', 'N', 'J'],\n",
       " 'c_8': ['L', 'G', 'Z', 'D', 'W', 'R', 'F', 'Q'],\n",
       " 'c_9': ['J', 'B', 'W', 'V', 'P']}"
      ]
     },
     "execution_count": 8,
     "metadata": {},
     "output_type": "execute_result"
    }
   ],
   "source": [
    "cargo"
   ]
  },
  {
   "cell_type": "code",
   "execution_count": 9,
   "id": "f2023327-9587-4483-9ebd-0bace8f4ffd6",
   "metadata": {},
   "outputs": [],
   "source": [
    "for l in lines:\n",
    "    moves = int(re.findall(\"(?<=move )(.*?)(?= from)\", l)[0])\n",
    "    _from = \"c_\"+ re.findall(\"(?<=from )(.*?)(?= to)\", l)[0]\n",
    "    _to = \"c_\"+ re.findall(\"(?<=to )(.*?)\", l)[1]\n",
    "    cargo[_to].extend(cargo[_from][-moves:])\n",
    "    cargo[_from] = cargo[_from][:-moves]"
   ]
  },
  {
   "cell_type": "code",
   "execution_count": 10,
   "id": "399616df-3762-47ff-afec-a45956a89198",
   "metadata": {},
   "outputs": [
    {
     "name": "stdout",
     "output_type": "stream",
     "text": [
      "Part b already solved with same answer: QZFJRWHGS\n"
     ]
    }
   ],
   "source": [
    "final = ''\n",
    "for i in range(9):\n",
    "    final+= (cargo[\"c_\"+str(i+1)][-1])\n",
    "submit(final, part=\"b\", day=day, year=year)"
   ]
  }
 ],
 "metadata": {
  "kernelspec": {
   "display_name": "Python 3 (ipykernel)",
   "language": "python",
   "name": "python3"
  },
  "language_info": {
   "codemirror_mode": {
    "name": "ipython",
    "version": 3
   },
   "file_extension": ".py",
   "mimetype": "text/x-python",
   "name": "python",
   "nbconvert_exporter": "python",
   "pygments_lexer": "ipython3",
   "version": "3.8.5"
  }
 },
 "nbformat": 4,
 "nbformat_minor": 5
}
