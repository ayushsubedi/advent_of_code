{
 "cells": [
  {
   "cell_type": "code",
   "execution_count": 1,
   "id": "78dcd03e-33cf-4c87-ada4-869e4e127cd9",
   "metadata": {},
   "outputs": [],
   "source": [
    "%reload_ext dotenv\n",
    "%dotenv\n",
    "\n",
    "from aocd import get_data\n",
    "from aocd import submit\n",
    "\n",
    "day = 4\n",
    "year = 2022\n",
    "\n",
    "lines = get_data(day=day, year=year).split('\\n')"
   ]
  },
  {
   "cell_type": "code",
   "execution_count": 2,
   "id": "a6f57178-8c63-4039-9b5a-7c6a1356fbdb",
   "metadata": {},
   "outputs": [
    {
     "name": "stdout",
     "output_type": "stream",
     "text": [
      "Part a already solved with same answer: 513\n"
     ]
    }
   ],
   "source": [
    "_sum = 0\n",
    "for l in lines:\n",
    "    f = l.split(',')\n",
    "    f_1 = f[0].split('-')\n",
    "    f_2 = f[1].split('-')\n",
    "    a, b, c, d = int(f_1[0]), int(f_1[1]), int(f_2[0]), int(f_2[1])\n",
    "    if (a>=c and b<=d and a<=d and b>=c) or (c>=a and d<=b and c<=b and d>=a):\n",
    "        _sum+=1\n",
    "submit(_sum, part=\"a\", day=day, year=year)"
   ]
  },
  {
   "cell_type": "code",
   "execution_count": 3,
   "id": "14794a72-7c70-481d-98a0-fedcdd2ca480",
   "metadata": {},
   "outputs": [
    {
     "name": "stdout",
     "output_type": "stream",
     "text": [
      "Part b already solved with same answer: 878\n"
     ]
    }
   ],
   "source": [
    "_sum = 0\n",
    "for l in lines:\n",
    "    f = l.split(',')\n",
    "    f_1 = f[0].split('-')\n",
    "    f_2 = f[1].split('-')\n",
    "    a, b, c, d = int(f_1[0]), int(f_1[1]), int(f_2[0]), int(f_2[1])\n",
    "    first = set([i for i in range(a,b+1)])\n",
    "    second = set([i for i in range(c,d+1)])\n",
    "    if len(first.intersection(second))>0:\n",
    "        _sum+=1\n",
    "submit(_sum, part=\"b\", day=day, year=year)"
   ]
  }
 ],
 "metadata": {
  "kernelspec": {
   "display_name": "Python 3 (ipykernel)",
   "language": "python",
   "name": "python3"
  },
  "language_info": {
   "codemirror_mode": {
    "name": "ipython",
    "version": 3
   },
   "file_extension": ".py",
   "mimetype": "text/x-python",
   "name": "python",
   "nbconvert_exporter": "python",
   "pygments_lexer": "ipython3",
   "version": "3.8.5"
  }
 },
 "nbformat": 4,
 "nbformat_minor": 5
}
