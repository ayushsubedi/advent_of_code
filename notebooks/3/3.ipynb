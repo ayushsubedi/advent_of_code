{
 "cells": [
  {
   "cell_type": "code",
   "execution_count": 1,
   "id": "78dcd03e-33cf-4c87-ada4-869e4e127cd9",
   "metadata": {},
   "outputs": [],
   "source": [
    "with open('input.txt') as file:\n",
    "    lines = [line.rstrip() for line in file]"
   ]
  },
  {
   "cell_type": "code",
   "execution_count": 2,
   "id": "fae7d496-54c8-4565-bda1-d8417ca7bad1",
   "metadata": {},
   "outputs": [],
   "source": [
    "x = 'vJrwpWtwJgWrhcsFMMfFFhFp'"
   ]
  },
  {
   "cell_type": "code",
   "execution_count": 3,
   "id": "1ff7fd7d-2ab9-4a19-9af0-e81c92d71d4b",
   "metadata": {},
   "outputs": [
    {
     "data": {
      "text/plain": [
       "'vJrwpWtwJgWr'"
      ]
     },
     "execution_count": 3,
     "metadata": {},
     "output_type": "execute_result"
    }
   ],
   "source": [
    "first = x[:len(x)//2]\n",
    "first"
   ]
  },
  {
   "cell_type": "code",
   "execution_count": 4,
   "id": "def5cbd6-23a0-49fc-8bcb-2852edb51358",
   "metadata": {},
   "outputs": [],
   "source": [
    "second = x[len(x)//2:]"
   ]
  },
  {
   "cell_type": "code",
   "execution_count": 5,
   "id": "97c0f8d6-8cd5-401f-b06a-3cdaa5890085",
   "metadata": {},
   "outputs": [],
   "source": [
    "char_mapping = ['a','b','c','d','e','f','g','h','i','j','k','l','m','n','o','p','q','r','s','t','u','v','w','x','y','z',\n",
    "         'A','B','C','D','E','F','G','H','I','J','K','L','M','N','O','P','Q','R','S','T','U','V','W','X','Y','Z']"
   ]
  },
  {
   "cell_type": "code",
   "execution_count": 6,
   "id": "26df2ebd-352f-441b-aa44-4d3e52f13cef",
   "metadata": {},
   "outputs": [
    {
     "name": "stdout",
     "output_type": "stream",
     "text": [
      "{'a': 1, 'b': 2, 'c': 3, 'd': 4, 'e': 5, 'f': 6, 'g': 7, 'h': 8, 'i': 9, 'j': 10, 'k': 11, 'l': 12, 'm': 13, 'n': 14, 'o': 15, 'p': 16, 'q': 17, 'r': 18, 's': 19, 't': 20, 'u': 21, 'v': 22, 'w': 23, 'x': 24, 'y': 25, 'z': 26, 'A': 27, 'B': 28, 'C': 29, 'D': 30, 'E': 31, 'F': 32, 'G': 33, 'H': 34, 'I': 35, 'J': 36, 'K': 37, 'L': 38, 'M': 39, 'N': 40, 'O': 41, 'P': 42, 'Q': 43, 'R': 44, 'S': 45, 'T': 46, 'U': 47, 'V': 48, 'W': 49, 'X': 50, 'Y': 51, 'Z': 52}\n"
     ]
    }
   ],
   "source": [
    "char_mapping_dict = {}\n",
    "for index, item in enumerate(char_mapping):\n",
    "    char_mapping_dict[item]=index+1\n",
    "print (char_mapping_dict)"
   ]
  },
  {
   "cell_type": "code",
   "execution_count": 7,
   "id": "76d10585-1649-42d8-9da8-4d41c0611eb5",
   "metadata": {},
   "outputs": [
    {
     "data": {
      "text/plain": [
       "16"
      ]
     },
     "execution_count": 7,
     "metadata": {},
     "output_type": "execute_result"
    }
   ],
   "source": [
    "char_mapping_dict[list(set(first).intersection(set(second)))[0]]"
   ]
  },
  {
   "cell_type": "code",
   "execution_count": null,
   "id": "c6f437d5-4826-4bc2-94fe-82a4356b716c",
   "metadata": {},
   "outputs": [],
   "source": []
  },
  {
   "cell_type": "code",
   "execution_count": null,
   "id": "601e7464-1167-4dde-be58-1110e1d73c62",
   "metadata": {},
   "outputs": [],
   "source": []
  },
  {
   "cell_type": "code",
   "execution_count": 8,
   "id": "afc91e35-fc13-4b5c-8e2b-d4b2b5f5b885",
   "metadata": {},
   "outputs": [],
   "source": [
    "sum_ = 0\n",
    "for l in lines:\n",
    "    first = l[:len(l)//2]\n",
    "    second = l[len(l)//2:]\n",
    "    sum_ += char_mapping_dict[list(set(first).intersection(set(second)))[0]]"
   ]
  },
  {
   "cell_type": "code",
   "execution_count": 9,
   "id": "a16ddaf0-9bca-4425-8010-ce0157d0a0c6",
   "metadata": {},
   "outputs": [
    {
     "data": {
      "text/plain": [
       "8240"
      ]
     },
     "execution_count": 9,
     "metadata": {},
     "output_type": "execute_result"
    }
   ],
   "source": [
    "sum_"
   ]
  }
 ],
 "metadata": {
  "kernelspec": {
   "display_name": "Python 3",
   "language": "python",
   "name": "python3"
  },
  "language_info": {
   "codemirror_mode": {
    "name": "ipython",
    "version": 3
   },
   "file_extension": ".py",
   "mimetype": "text/x-python",
   "name": "python",
   "nbconvert_exporter": "python",
   "pygments_lexer": "ipython3",
   "version": "3.8.8"
  }
 },
 "nbformat": 4,
 "nbformat_minor": 5
}
