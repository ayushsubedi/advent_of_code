{
 "cells": [
  {
   "cell_type": "raw",
   "id": "400838d3-c08c-4623-89fb-12027be1d204",
   "metadata": {},
   "source": [
    "            [G] [W]         [Q]    \n",
    "[Z]         [Q] [M]     [J] [F]    \n",
    "[V]         [V] [S] [F] [N] [R]    \n",
    "[T]         [F] [C] [H] [F] [W] [P]\n",
    "[B] [L]     [L] [J] [C] [V] [D] [V]\n",
    "[J] [V] [F] [N] [T] [T] [C] [Z] [W]\n",
    "[G] [R] [Q] [H] [Q] [W] [Z] [G] [B]\n",
    "[R] [J] [S] [Z] [R] [S] [D] [L] [J]\n",
    " 1   2   3   4   5   6   7   8   9 "
   ]
  },
  {
   "cell_type": "code",
   "execution_count": 1,
   "id": "0b04264b-b953-42c7-ac71-997f62597d14",
   "metadata": {},
   "outputs": [],
   "source": [
    "cargo = {'c_1' : ['R', 'G', 'J', 'B', 'T', 'V', 'Z'],\n",
    "'c_2' : ['J', 'R', 'V', 'L'],\n",
    "'c_3' : ['S', 'Q', 'F'],\n",
    "'c_4' : ['Z', 'H', 'N', 'L', 'F', 'V', 'Q', 'G'],\n",
    "'c_5' : ['R', 'Q', 'T', 'J', 'C', 'S', 'M', 'W'],\n",
    "'c_6' : ['S', 'W', 'T', 'C', 'H', 'F'],\n",
    "'c_7' : ['D', 'Z', 'C', 'V', 'F', 'N', 'J'],\n",
    "'c_8' : ['L', 'G', 'Z', 'D', 'W', 'R', 'F', 'Q'],\n",
    "'c_9' : ['J', 'B', 'W', 'V', 'P']}"
   ]
  },
  {
   "cell_type": "code",
   "execution_count": 2,
   "id": "22db63af-315f-4837-8e27-b7e8b173a720",
   "metadata": {},
   "outputs": [
    {
     "data": {
      "text/plain": [
       "{'c_1': ['R', 'G', 'J', 'B', 'T', 'V', 'Z'],\n",
       " 'c_2': ['J', 'R', 'V', 'L'],\n",
       " 'c_3': ['S', 'Q', 'F'],\n",
       " 'c_4': ['Z', 'H', 'N', 'L', 'F', 'V', 'Q', 'G'],\n",
       " 'c_5': ['R', 'Q', 'T', 'J', 'C', 'S', 'M', 'W'],\n",
       " 'c_6': ['S', 'W', 'T', 'C', 'H', 'F'],\n",
       " 'c_7': ['D', 'Z', 'C', 'V', 'F', 'N', 'J'],\n",
       " 'c_8': ['L', 'G', 'Z', 'D', 'W', 'R', 'F', 'Q'],\n",
       " 'c_9': ['J', 'B', 'W', 'V', 'P']}"
      ]
     },
     "execution_count": 2,
     "metadata": {},
     "output_type": "execute_result"
    }
   ],
   "source": [
    "cargo"
   ]
  },
  {
   "cell_type": "code",
   "execution_count": 3,
   "id": "cf8fb66b-9029-4f48-b652-74b0e6a7f135",
   "metadata": {},
   "outputs": [],
   "source": [
    "with open('input.txt') as file:\n",
    "    lines = [line.rstrip() for line in file]"
   ]
  },
  {
   "cell_type": "code",
   "execution_count": 4,
   "id": "ffab1d19-c15a-4f96-b19c-34ca389e63b6",
   "metadata": {},
   "outputs": [],
   "source": [
    "import re\n",
    "for l in lines:\n",
    "    moves = int(re.findall(\"(?<=move )(.*?)(?= from)\", l)[0])\n",
    "    _from = \"c_\"+ re.findall(\"(?<=from )(.*?)(?= to)\", l)[0]\n",
    "    _to = \"c_\"+ re.findall(\"(?<=to )(.*?)\", l)[1]\n",
    "    for x in range(moves):\n",
    "        cargo[_to].append(cargo[_from].pop()) "
   ]
  },
  {
   "cell_type": "code",
   "execution_count": 5,
   "id": "8e26a6e1-25ef-47f1-8209-e7e1c5f33683",
   "metadata": {},
   "outputs": [
    {
     "data": {
      "text/plain": [
       "'ZSQVCCJLL'"
      ]
     },
     "execution_count": 5,
     "metadata": {},
     "output_type": "execute_result"
    }
   ],
   "source": [
    "final = ''\n",
    "for i in range(9):\n",
    "    final+= (cargo[\"c_\"+str(i+1)][-1])\n",
    "final"
   ]
  }
 ],
 "metadata": {
  "kernelspec": {
   "display_name": "Python 3 (ipykernel)",
   "language": "python",
   "name": "python3"
  },
  "language_info": {
   "codemirror_mode": {
    "name": "ipython",
    "version": 3
   },
   "file_extension": ".py",
   "mimetype": "text/x-python",
   "name": "python",
   "nbconvert_exporter": "python",
   "pygments_lexer": "ipython3",
   "version": "3.8.5"
  }
 },
 "nbformat": 4,
 "nbformat_minor": 5
}
