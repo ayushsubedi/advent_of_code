{
 "cells": [
  {
   "cell_type": "code",
   "execution_count": 1,
   "id": "2a1cb3b5-3e4c-40a4-959e-12be1f0761d3",
   "metadata": {},
   "outputs": [],
   "source": [
    "with open('input.txt') as file:\n",
    "    lines = [line.rstrip() for line in file]"
   ]
  },
  {
   "cell_type": "code",
   "execution_count": 2,
   "id": "94b1101d-f4ac-4f24-888a-d143312896f9",
   "metadata": {},
   "outputs": [],
   "source": [
    "final_sum = []\n",
    "temp_sum = 0\n",
    "for l in lines:\n",
    "    if l=='':\n",
    "        final_sum.append(temp_sum)\n",
    "        temp_sum = 0\n",
    "    else:\n",
    "        temp_sum+=int(l)"
   ]
  },
  {
   "cell_type": "code",
   "execution_count": 7,
   "id": "a3979403-6fdd-43fa-80c8-da66f00fbba5",
   "metadata": {},
   "outputs": [
    {
     "data": {
      "text/plain": [
       "209914"
      ]
     },
     "execution_count": 7,
     "metadata": {},
     "output_type": "execute_result"
    }
   ],
   "source": [
    "sum(sorted(final_sum, reverse=True)[:3])"
   ]
  },
  {
   "cell_type": "code",
   "execution_count": null,
   "id": "c4070a2f-55bc-4202-b7c5-42a4ec189fd0",
   "metadata": {},
   "outputs": [],
   "source": []
  }
 ],
 "metadata": {
  "kernelspec": {
   "display_name": "Python 3",
   "language": "python",
   "name": "python3"
  },
  "language_info": {
   "codemirror_mode": {
    "name": "ipython",
    "version": 3
   },
   "file_extension": ".py",
   "mimetype": "text/x-python",
   "name": "python",
   "nbconvert_exporter": "python",
   "pygments_lexer": "ipython3",
   "version": "3.8.8"
  }
 },
 "nbformat": 4,
 "nbformat_minor": 5
}
