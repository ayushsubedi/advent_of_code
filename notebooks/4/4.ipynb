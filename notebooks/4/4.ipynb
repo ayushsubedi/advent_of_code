{
 "cells": [
  {
   "cell_type": "code",
   "execution_count": 1,
   "id": "78dcd03e-33cf-4c87-ada4-869e4e127cd9",
   "metadata": {},
   "outputs": [],
   "source": [
    "with open('input.txt') as file:\n",
    "    lines = [line.rstrip() for line in file]"
   ]
  },
  {
   "cell_type": "code",
   "execution_count": 2,
   "id": "a6f57178-8c63-4039-9b5a-7c6a1356fbdb",
   "metadata": {},
   "outputs": [
    {
     "data": {
      "text/plain": [
       "513"
      ]
     },
     "execution_count": 2,
     "metadata": {},
     "output_type": "execute_result"
    }
   ],
   "source": [
    "_sum = 0\n",
    "for l in lines:\n",
    "    f = l.split(',')\n",
    "    f_1 = f[0].split('-')\n",
    "    f_2 = f[1].split('-')\n",
    "    a, b, c, d = int(f_1[0]), int(f_1[1]), int(f_2[0]), int(f_2[1])\n",
    "    if (a>=c and b<=d and a<=d and b>=c) or (c>=a and d<=b and c<=b and d>=a):\n",
    "        _sum+=1\n",
    "_sum"
   ]
  },
  {
   "cell_type": "code",
   "execution_count": 3,
   "id": "14794a72-7c70-481d-98a0-fedcdd2ca480",
   "metadata": {},
   "outputs": [
    {
     "data": {
      "text/plain": [
       "878"
      ]
     },
     "execution_count": 3,
     "metadata": {},
     "output_type": "execute_result"
    }
   ],
   "source": [
    "_sum = 0\n",
    "for l in lines:\n",
    "    f = l.split(',')\n",
    "    f_1 = f[0].split('-')\n",
    "    f_2 = f[1].split('-')\n",
    "    a, b, c, d = int(f_1[0]), int(f_1[1]), int(f_2[0]), int(f_2[1])\n",
    "    first = set([i for i in range(a,b+1)])\n",
    "    second = set([i for i in range(c,d+1)])\n",
    "    if len(first.intersection(second))>0:\n",
    "        _sum+=1\n",
    "_sum"
   ]
  }
 ],
 "metadata": {
  "kernelspec": {
   "display_name": "Python 3 (ipykernel)",
   "language": "python",
   "name": "python3"
  },
  "language_info": {
   "codemirror_mode": {
    "name": "ipython",
    "version": 3
   },
   "file_extension": ".py",
   "mimetype": "text/x-python",
   "name": "python",
   "nbconvert_exporter": "python",
   "pygments_lexer": "ipython3",
   "version": "3.8.5"
  }
 },
 "nbformat": 4,
 "nbformat_minor": 5
}
