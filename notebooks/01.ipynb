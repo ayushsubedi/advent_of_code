{
 "cells": [
  {
   "cell_type": "code",
   "execution_count": 1,
   "id": "e72862bc-64d9-47be-86eb-386bc5e4e246",
   "metadata": {},
   "outputs": [],
   "source": [
    "%reload_ext dotenv\n",
    "%dotenv\n",
    "\n",
    "from aocd import get_data\n",
    "from aocd import submit\n",
    "\n",
    "day = 1\n",
    "year = 2022\n",
    "\n",
    "lines = get_data(day=day, year=year).split('\\n')"
   ]
  },
  {
   "cell_type": "code",
   "execution_count": 3,
   "id": "a9a436b4-7b80-4822-8dcb-e72a9192b491",
   "metadata": {},
   "outputs": [],
   "source": [
    "final_sum = []\n",
    "temp_sum = 0\n",
    "for l in lines:\n",
    "    if l=='':\n",
    "        final_sum.append(temp_sum)\n",
    "        temp_sum = 0\n",
    "    else:\n",
    "        temp_sum+=int(l)"
   ]
  },
  {
   "cell_type": "code",
   "execution_count": 4,
   "id": "ff0c9f04-c557-407c-afe5-ae53f4dca420",
   "metadata": {},
   "outputs": [
    {
     "name": "stdout",
     "output_type": "stream",
     "text": [
      "Part a already solved with same answer: 74198\n"
     ]
    }
   ],
   "source": [
    "submit(max(final_sum), part=\"a\", day=day, year=year)"
   ]
  },
  {
   "cell_type": "code",
   "execution_count": 5,
   "id": "09e760ed-ac03-4993-9083-92cdfa8282d0",
   "metadata": {},
   "outputs": [
    {
     "name": "stdout",
     "output_type": "stream",
     "text": [
      "Part b already solved with same answer: 209914\n"
     ]
    }
   ],
   "source": [
    "submit(sum(sorted(final_sum, reverse=True)[:3]), part=\"b\", day=day, year=year)"
   ]
  }
 ],
 "metadata": {
  "kernelspec": {
   "display_name": "Python 3 (ipykernel)",
   "language": "python",
   "name": "python3"
  },
  "language_info": {
   "codemirror_mode": {
    "name": "ipython",
    "version": 3
   },
   "file_extension": ".py",
   "mimetype": "text/x-python",
   "name": "python",
   "nbconvert_exporter": "python",
   "pygments_lexer": "ipython3",
   "version": "3.8.5"
  }
 },
 "nbformat": 4,
 "nbformat_minor": 5
}
