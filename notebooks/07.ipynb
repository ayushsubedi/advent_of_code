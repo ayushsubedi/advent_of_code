{
 "cells": [
  {
   "cell_type": "code",
   "execution_count": 1,
   "id": "9bde7e23-9559-4733-a251-5ef237fb854d",
   "metadata": {},
   "outputs": [],
   "source": [
    "%reload_ext dotenv\n",
    "%dotenv\n",
    "\n",
    "from collections import defaultdict\n",
    "from aocd import get_data\n",
    "from aocd import submit\n",
    "import pandas as pd\n",
    "\n",
    "day = 7\n",
    "year = 2022\n",
    "\n",
    "lines = get_data(day=day, year=year).split('\\n')"
   ]
  },
  {
   "cell_type": "code",
   "execution_count": 2,
   "id": "90726466-0bce-4e02-8ed5-758ea0610f0e",
   "metadata": {},
   "outputs": [
    {
     "name": "stdout",
     "output_type": "stream",
     "text": [
      "Part a already solved with same answer: 2104783\n"
     ]
    }
   ],
   "source": [
    "folders = []\n",
    "folders_size = defaultdict(int)\n",
    "\n",
    "for l in lines:\n",
    "    cmd = l.strip().split()\n",
    "    if cmd[1]=='cd':\n",
    "        if cmd[2]=='..':\n",
    "            folders.pop()\n",
    "        else:\n",
    "            folders.append(cmd[2])\n",
    "    else:\n",
    "        try:\n",
    "            size = int(cmd[0])\n",
    "            for i in range(1, len(folders) + 1):\n",
    "                folders_size['/'.join(folders[:i])] += size\n",
    "        except: \n",
    "            pass\n",
    "        \n",
    "_sum = 0\n",
    "for key in folders_size:\n",
    "    if (folders_size[key]<=100000):\n",
    "        _sum += folders_size[key]\n",
    "        \n",
    "submit(_sum, part=\"a\", day=day, year=year)"
   ]
  },
  {
   "cell_type": "code",
   "execution_count": 3,
   "id": "641bfdcd-8eb4-499d-9e71-32d1aae409c7",
   "metadata": {},
   "outputs": [],
   "source": [
    "df = pd.DataFrame(folders_size, index=['dir_size']).T.reset_index()"
   ]
  },
  {
   "cell_type": "code",
   "execution_count": 4,
   "id": "25e0c33d-b413-4379-8653-f3d12da133e2",
   "metadata": {},
   "outputs": [],
   "source": [
    "part_2 = int(df[df.dir_size>(folders_size['/'] - 70000000 + 30000000)].sort_values('dir_size').head(1).dir_size)"
   ]
  },
  {
   "cell_type": "code",
   "execution_count": 5,
   "id": "6ae63ad0-228a-4603-bcd1-f5e1c381e016",
   "metadata": {},
   "outputs": [
    {
     "name": "stdout",
     "output_type": "stream",
     "text": [
      "Part b already solved with same answer: 5883165\n"
     ]
    }
   ],
   "source": [
    "submit(part_2, part=\"b\", day=day, year=year)"
   ]
  }
 ],
 "metadata": {
  "kernelspec": {
   "display_name": "Python 3 (ipykernel)",
   "language": "python",
   "name": "python3"
  },
  "language_info": {
   "codemirror_mode": {
    "name": "ipython",
    "version": 3
   },
   "file_extension": ".py",
   "mimetype": "text/x-python",
   "name": "python",
   "nbconvert_exporter": "python",
   "pygments_lexer": "ipython3",
   "version": "3.8.5"
  }
 },
 "nbformat": 4,
 "nbformat_minor": 5
}
